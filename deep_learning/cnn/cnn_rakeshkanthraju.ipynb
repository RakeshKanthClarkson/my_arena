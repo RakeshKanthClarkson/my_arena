{
  "cells": [
    {
      "cell_type": "code",
      "execution_count": 16,
      "metadata": {
        "id": "1gyoXbAoUs5s"
      },
      "outputs": [],
      "source": [
        "import tensorflow as tf\n",
        "from tensorflow import keras\n",
        "from tensorflow.keras import layers\n",
        "from keras.layers import Dropout\n",
        "import numpy as np\n",
        "from tensorflow.keras.preprocessing.image import ImageDataGenerator\n",
        "import matplotlib.pyplot as plt\n",
        "from tensorflow.keras.utils import to_categorical"
      ]
    },
    {
      "cell_type": "code",
      "execution_count": 17,
      "metadata": {
        "colab": {
          "base_uri": "https://localhost:8080/"
        },
        "id": "q4y5wz3afuVO",
        "outputId": "658c0ebe-cbc9-43ca-fc0c-45682d047cef"
      },
      "outputs": [
        {
          "output_type": "stream",
          "name": "stdout",
          "text": [
            "Shape of the training dataset,number of images and resolution: (50000, 32, 32, 3)\n",
            "Distint training labels: [0 1 2 3 4 5 6 7 8 9]\n"
          ]
        }
      ],
      "source": [
        "# Load CIFAR10 dataset\n",
        "(train_images, train_labels), (test_images, test_labels) = tf.keras.datasets.cifar10.load_data()\n",
        "\n",
        "\n",
        "print(\"Shape of the training dataset,number of images and resolution:\",train_images.shape)\n",
        "print(\"Distint training labels:\",np.unique(train_labels))\n",
        "\n",
        "\n"
      ]
    },
    {
      "cell_type": "code",
      "execution_count": 18,
      "metadata": {
        "colab": {
          "base_uri": "https://localhost:8080/",
          "height": 447
        },
        "id": "5tGwsiDGKIXS",
        "outputId": "e8c2ead7-ae16-4d28-ebc3-2c6b556a17c3"
      },
      "outputs": [
        {
          "output_type": "stream",
          "name": "stdout",
          "text": [
            "label for the image 9 truck\n"
          ]
        },
        {
          "output_type": "display_data",
          "data": {
            "text/plain": [
              "<Figure size 640x480 with 1 Axes>"
            ],
            "image/png": "[encoded data removed]"
          },
          "metadata": {}
        }
      ],
      "source": [
        "labels=['airplane','automobile','bird', 'cat','deer', 'dog', 'frog', 'horse', 'ship','truck']\n",
        "plt.figure()\n",
        "plt.imshow(train_images[1],cmap='gray')\n",
        "print(\"label for the image\",train_labels[1][0],labels[train_labels[1][0]])\n",
        "plt.show()"
      ]
    },
    {
      "cell_type": "code",
      "execution_count": 19,
      "metadata": {
        "id": "lzIFwR5KJ9AW"
      },
      "outputs": [],
      "source": [
        "# Create the CNN model\n",
        "model = keras.Sequential([\n",
        "    layers.Input(shape=(32, 32, 3)),\n",
        "    layers.Conv2D(32, (3, 3), activation='relu', padding='same'),\n",
        "    layers.MaxPooling2D((2, 2)),\n",
        "    layers.Conv2D(64, (3, 3), activation='relu', padding='same'),\n",
        "    layers.MaxPooling2D((2, 2)),\n",
        "    layers.Conv2D(128, (3, 3), activation='relu', padding='same'),\n",
        "    layers.MaxPooling2D((2, 2)),\n",
        "    layers.Flatten(),\n",
        "    layers.Dense(128, activation='relu'),\n",
        "    layers.Dense(10, activation='softmax')\n",
        "])\n",
        "\n",
        "\n",
        "model.compile(optimizer='adam',\n",
        "              loss='sparse_categorical_crossentropy',\n",
        "              metrics=['accuracy'])"
      ]
    },
    {
      "cell_type": "code",
      "execution_count": 20,
      "metadata": {
        "id": "mhCy0XxeJ1DZ",
        "colab": {
          "base_uri": "https://localhost:8080/"
        },
        "outputId": "f5a6cd00-9a87-45b7-dde8-ae4c7e6e70e4"
      },
      "outputs": [
        {
          "output_type": "stream",
          "name": "stdout",
          "text": [
            "Epoch 1/10\n",
            "1407/1407 [==============================] - 117s 82ms/step - loss: 1.8492 - accuracy: 0.4614 - val_loss: 1.2412 - val_accuracy: 0.5530\n",
            "Epoch 2/10\n",
            "1407/1407 [==============================] - 117s 83ms/step - loss: 1.1455 - accuracy: 0.5973 - val_loss: 1.1517 - val_accuracy: 0.5962\n",
            "Epoch 3/10\n",
            "1407/1407 [==============================] - 112s 80ms/step - loss: 0.9979 - accuracy: 0.6511 - val_loss: 1.0168 - val_accuracy: 0.6468\n",
            "Epoch 4/10\n",
            "1407/1407 [==============================] - 116s 82ms/step - loss: 0.8946 - accuracy: 0.6875 - val_loss: 1.0428 - val_accuracy: 0.6304\n",
            "Epoch 5/10\n",
            "1407/1407 [==============================] - 114s 81ms/step - loss: 0.8246 - accuracy: 0.7110 - val_loss: 0.9453 - val_accuracy: 0.6752\n",
            "Epoch 6/10\n",
            "1407/1407 [==============================] - 120s 85ms/step - loss: 0.7442 - accuracy: 0.7404 - val_loss: 0.9546 - val_accuracy: 0.6908\n",
            "Epoch 7/10\n",
            "1407/1407 [==============================] - 114s 81ms/step - loss: 0.6951 - accuracy: 0.7545 - val_loss: 1.0015 - val_accuracy: 0.6758\n",
            "Epoch 8/10\n",
            "1407/1407 [==============================] - 115s 82ms/step - loss: 0.6282 - accuracy: 0.7790 - val_loss: 0.9763 - val_accuracy: 0.6886\n",
            "Epoch 9/10\n",
            "1407/1407 [==============================] - 112s 80ms/step - loss: 0.5728 - accuracy: 0.8001 - val_loss: 0.9898 - val_accuracy: 0.6918\n",
            "Epoch 10/10\n",
            "1407/1407 [==============================] - 117s 83ms/step - loss: 0.5291 - accuracy: 0.8146 - val_loss: 1.0383 - val_accuracy: 0.6848\n",
            "313/313 [==============================] - 7s 23ms/step - loss: 1.0782 - accuracy: 0.6819\n",
            "Test accuracy: 68.19000244140625\n"
          ]
        }
      ],
      "source": [
        "# Train the model\n",
        "\n",
        "model.fit(train_images, train_labels, epochs=10, validation_split=0.1)\n",
        "test_loss, test_acc = model.evaluate(test_images, test_labels)\n",
        "print(\"Test accuracy:\", test_acc*100)"
      ]
    },
    {
      "cell_type": "markdown",
      "metadata": {
        "id": "8RsN6aVoBrWX"
      },
      "source": [
        "Augmentation Technique 1: Zooming"
      ]
    },
    {
      "cell_type": "code",
      "execution_count": 21,
      "metadata": {
        "colab": {
          "base_uri": "https://localhost:8080/",
          "height": 358
        },
        "id": "lzqOAmWsb9Iw",
        "outputId": "9089d472-3ace-481b-bcf1-44a0f6fa38cf"
      },
      "outputs": [
        {
          "output_type": "stream",
          "name": "stdout",
          "text": [
            "Augmentation Technique 1 : Zoom 20%\n"
          ]
        },
        {
          "output_type": "display_data",
          "data": {
            "text/plain": [
              "<Figure size 800x400 with 2 Axes>"
            ],
            "image/png": "[encoded data removed]"
          },
          "metadata": {}
        }
      ],
      "source": [
        "image = train_images[0]\n",
        "\n",
        "image = np.expand_dims(image, axis=0)\n",
        "\n",
        "datagen_zoom = ImageDataGenerator(\n",
        "    horizontal_flip=True,\n",
        "    fill_mode='nearest'\n",
        ")\n",
        "\n",
        "augmented_images = []\n",
        "\n",
        "for batch in datagen_zoom.flow(image, batch_size=1):\n",
        "    augmented_images.append(batch[0])\n",
        "    if len(augmented_images) == 1:\n",
        "        break\n",
        "\n",
        "print(\"Augmentation Technique 1 : Zoom 20%\")\n",
        "\n",
        "fig, axs = plt.subplots(1, 2, figsize=(8, 4))\n",
        "\n",
        "\n",
        "axs[0].imshow(image[0])\n",
        "axs[0].set_title('Original Image')\n",
        "axs[0].axis('off')\n",
        "\n",
        "\n",
        "axs[1].imshow(augmented_images[0].astype('uint8'))\n",
        "axs[1].set_title('Horizontal flip Augmented Image')\n",
        "axs[1].axis('off')\n",
        "\n",
        "plt.show()"
      ]
    },
    {
      "cell_type": "code",
      "execution_count": 22,
      "metadata": {
        "colab": {
          "base_uri": "https://localhost:8080/",
          "height": 358
        },
        "id": "F4-wzq_uUkCs",
        "outputId": "d8e75801-328b-4e31-edfe-9d1adbcf2208"
      },
      "outputs": [
        {
          "output_type": "stream",
          "name": "stdout",
          "text": [
            "Augmentation Technique 2 : Rotation 10 degree\n"
          ]
        },
        {
          "output_type": "display_data",
          "data": {
            "text/plain": [
              "<Figure size 800x400 with 2 Axes>"
            ],
            "image/png": "[encoded data removed]"
          },
          "metadata": {}
        }
      ],
      "source": [
        "image = image[0]\n",
        "\n",
        "image = np.expand_dims(image, axis=0)\n",
        "\n",
        "datagen_rotation = ImageDataGenerator(\n",
        "    rotation_range=10,\n",
        "    fill_mode='nearest'\n",
        ")\n",
        "\n",
        "augmented_images = []\n",
        "\n",
        "for batch in datagen_rotation.flow(image, batch_size=1):\n",
        "    augmented_images.append(batch[0])\n",
        "    if len(augmented_images) == 1:\n",
        "        break\n",
        "\n",
        "print(\"Augmentation Technique 2 : Rotation 10 degree\")\n",
        "\n",
        "fig, axs = plt.subplots(1, 2, figsize=(8, 4))\n",
        "\n",
        "axs[0].imshow(image[0])\n",
        "axs[0].set_title('Original Image')\n",
        "axs[0].axis('off')\n",
        "\n",
        "\n",
        "axs[1].imshow(augmented_images[0].astype('uint8'))\n",
        "axs[1].set_title('Rotated Augmented Image')\n",
        "axs[1].axis('off')\n",
        "\n",
        "plt.show()"
      ]
    },
    {
      "cell_type": "code",
      "execution_count": 23,
      "metadata": {
        "id": "5U0KRrg_ytqk"
      },
      "outputs": [],
      "source": [
        "# ImageDataGenerator instance for augmentation\n",
        "generator = ImageDataGenerator(\n",
        "    horizontal_flip=True,\n",
        "    zoom_range=0.2,\n",
        "    fill_mode='nearest'\n",
        ")\n",
        "\n",
        "# Function to apply augmentation to an image and return the augmented images\n",
        "def augment_image(img, num_augmented_images):\n",
        "    img = np.expand_dims(img, axis=0)\n",
        "    augmented_images = []\n",
        "\n",
        "    for batch in generator.flow(img, batch_size=1):\n",
        "        augmented_images.append(batch[0])\n",
        "        if len(augmented_images) == num_augmented_images:\n",
        "            break\n",
        "\n",
        "    return augmented_images\n",
        "\n",
        "augmented_train_images = []\n",
        "augmented_train_labels = []\n",
        "\n",
        "for i in range(len(train_images)):\n",
        "    original_image = train_images[i]\n",
        "    original_label = train_labels[i]\n",
        "    augmented_train_images.append(original_image)\n",
        "    augmented_train_labels.append(original_label)\n",
        "    augmented_images = augment_image(original_image, num_augmented_images=1)\n",
        "    augmented_train_images.extend(augmented_images)\n",
        "    augmented_train_labels.extend([original_label] * len(augmented_images))\n",
        "\n",
        "\n",
        "augmented_train_images = np.array(augmented_train_images)\n",
        "augmented_train_labels = np.array(augmented_train_labels)\n",
        "\n",
        "\n",
        "\n"
      ]
    },
    {
      "cell_type": "code",
      "execution_count": 24,
      "metadata": {
        "colab": {
          "base_uri": "https://localhost:8080/"
        },
        "id": "gKwCei0iDWOh",
        "outputId": "c33eab1d-d66e-424e-97d3-31fb863c1d74"
      },
      "outputs": [
        {
          "output_type": "stream",
          "name": "stdout",
          "text": [
            "shape of expanded training dataset (100000, 32, 32, 3)\n"
          ]
        }
      ],
      "source": [
        "print(\"shape of expanded training dataset\",augmented_train_images.shape)"
      ]
    },
    {
      "cell_type": "code",
      "execution_count": 25,
      "metadata": {
        "colab": {
          "base_uri": "https://localhost:8080/"
        },
        "id": "bNCUnAwYquWg",
        "outputId": "836e56dc-e6a8-4865-9d68-14e240f0f27f"
      },
      "outputs": [
        {
          "output_type": "stream",
          "name": "stdout",
          "text": [
            "Epoch 1/12\n",
            "2813/2813 [==============================] - 252s 89ms/step - loss: 0.7306 - accuracy: 0.7497 - val_loss: 0.9154 - val_accuracy: 0.7014\n",
            "Epoch 2/12\n",
            "2813/2813 [==============================] - 230s 82ms/step - loss: 0.6577 - accuracy: 0.7738 - val_loss: 0.9762 - val_accuracy: 0.6938\n",
            "Epoch 3/12\n",
            "2813/2813 [==============================] - 229s 81ms/step - loss: 0.6178 - accuracy: 0.7884 - val_loss: 0.9285 - val_accuracy: 0.7027\n",
            "Epoch 4/12\n",
            "2813/2813 [==============================] - 227s 81ms/step - loss: 0.5816 - accuracy: 0.7993 - val_loss: 1.0367 - val_accuracy: 0.7051\n",
            "Epoch 5/12\n",
            "2813/2813 [==============================] - 228s 81ms/step - loss: 0.5494 - accuracy: 0.8109 - val_loss: 1.0307 - val_accuracy: 0.6943\n",
            "Epoch 6/12\n",
            "2813/2813 [==============================] - 227s 81ms/step - loss: 0.5250 - accuracy: 0.8195 - val_loss: 1.0473 - val_accuracy: 0.6965\n",
            "Epoch 7/12\n",
            "2813/2813 [==============================] - 232s 83ms/step - loss: 0.5008 - accuracy: 0.8284 - val_loss: 1.0589 - val_accuracy: 0.7066\n",
            "Epoch 8/12\n",
            "2813/2813 [==============================] - 228s 81ms/step - loss: 0.4880 - accuracy: 0.8332 - val_loss: 1.0961 - val_accuracy: 0.7005\n",
            "Epoch 9/12\n",
            "2813/2813 [==============================] - 227s 81ms/step - loss: 0.4621 - accuracy: 0.8431 - val_loss: 1.1610 - val_accuracy: 0.7000\n",
            "Epoch 10/12\n",
            "2813/2813 [==============================] - 228s 81ms/step - loss: 0.4515 - accuracy: 0.8481 - val_loss: 1.1674 - val_accuracy: 0.6941\n",
            "Epoch 11/12\n",
            "2813/2813 [==============================] - 229s 81ms/step - loss: 0.4402 - accuracy: 0.8506 - val_loss: 1.1686 - val_accuracy: 0.6919\n",
            "Epoch 12/12\n",
            "2813/2813 [==============================] - 233s 83ms/step - loss: 0.4390 - accuracy: 0.8524 - val_loss: 1.3042 - val_accuracy: 0.6866\n",
            "313/313 [==============================] - 8s 27ms/step - loss: 1.3476 - accuracy: 0.7049\n",
            "Test accuracy: 70.49000263214111\n"
          ]
        }
      ],
      "source": [
        "model.fit(augmented_train_images, augmented_train_labels, epochs=12, validation_split=0.1)\n",
        "test_loss, test_acc = model.evaluate(test_images, test_labels)\n",
        "print(\"Test accuracy:\", test_acc*100)"
      ]
    },
    {
      "cell_type": "code",
      "execution_count": 28,
      "metadata": {
        "colab": {
          "base_uri": "https://localhost:8080/"
        },
        "id": "eguADMs2x_RC",
        "outputId": "81bd03c9-7695-4953-9195-3334cb10d00a"
      },
      "outputs": [
        {
          "output_type": "stream",
          "name": "stdout",
          "text": [
            "Model: \"sequential_5\"\n",
            "_________________________________________________________________\n",
            " Layer (type)                Output Shape              Param #   \n",
            "=================================================================\n",
            " conv2d_23 (Conv2D)          (None, 32, 32, 32)        896       \n",
            "                                                                 \n",
            " activation_9 (Activation)   (None, 32, 32, 32)        0         \n",
            "                                                                 \n",
            " conv2d_24 (Conv2D)          (None, 30, 30, 32)        9248      \n",
            "                                                                 \n",
            " activation_10 (Activation)  (None, 30, 30, 32)        0         \n",
            "                                                                 \n",
            " max_pooling2d_18 (MaxPooli  (None, 15, 15, 32)        0         \n",
            " ng2D)                                                           \n",
            "                                                                 \n",
            " dropout_7 (Dropout)         (None, 15, 15, 32)        0         \n",
            "                                                                 \n",
            " conv2d_25 (Conv2D)          (None, 15, 15, 64)        18496     \n",
            "                                                                 \n",
            " activation_11 (Activation)  (None, 15, 15, 64)        0         \n",
            "                                                                 \n",
            " conv2d_26 (Conv2D)          (None, 13, 13, 64)        36928     \n",
            "                                                                 \n",
            " activation_12 (Activation)  (None, 13, 13, 64)        0         \n",
            "                                                                 \n",
            " max_pooling2d_19 (MaxPooli  (None, 6, 6, 64)          0         \n",
            " ng2D)                                                           \n",
            "                                                                 \n",
            " dropout_8 (Dropout)         (None, 6, 6, 64)          0         \n",
            "                                                                 \n",
            " flatten_4 (Flatten)         (None, 2304)              0         \n",
            "                                                                 \n",
            " dense_8 (Dense)             (None, 512)               1180160   \n",
            "                                                                 \n",
            " activation_13 (Activation)  (None, 512)               0         \n",
            "                                                                 \n",
            " dropout_9 (Dropout)         (None, 512)               0         \n",
            "                                                                 \n",
            " dense_9 (Dense)             (None, 10)                5130      \n",
            "                                                                 \n",
            " activation_14 (Activation)  (None, 10)                0         \n",
            "                                                                 \n",
            "=================================================================\n",
            "Total params: 1250858 (4.77 MB)\n",
            "Trainable params: 1250858 (4.77 MB)\n",
            "Non-trainable params: 0 (0.00 Byte)\n",
            "_________________________________________________________________\n"
          ]
        }
      ],
      "source": [
        "model_dropout = keras.Sequential()\n",
        "\n",
        "\n",
        "model_dropout.add(layers.Conv2D(32, (3, 3), padding='same',input_shape=augmented_train_images.shape[1:]))\n",
        "model_dropout.add(layers.Activation('relu'))\n",
        "model_dropout.add(layers.Conv2D(32, (3, 3)))\n",
        "model_dropout.add(layers.Activation('relu'))\n",
        "model_dropout.add(layers.MaxPooling2D(pool_size=(2, 2)))\n",
        "model_dropout.add(Dropout(0.25))\n",
        "\n",
        "model_dropout.add(layers.Conv2D(64, (3, 3), padding='same'))\n",
        "model_dropout.add(layers.Activation('relu'))\n",
        "model_dropout.add(layers.Conv2D(64, (3, 3)))\n",
        "model_dropout.add(layers.Activation('relu'))\n",
        "model_dropout.add(layers.MaxPooling2D(pool_size=(2, 2)))\n",
        "model_dropout.add(Dropout(0.25))\n",
        "\n",
        "model_dropout.add(layers.Flatten())\n",
        "model_dropout.add(layers.Dense(512))\n",
        "model_dropout.add(layers.Activation('relu'))\n",
        "model_dropout.add(layers.Dropout(0.5))\n",
        "\n",
        "model_dropout.add(layers.Dense(10))\n",
        "model_dropout.add(layers.Activation('softmax'))\n",
        "\n",
        "model_dropout.summary()"
      ]
    },
    {
      "cell_type": "code",
      "execution_count": 14,
      "metadata": {
        "id": "I2-K5BekK3l_"
      },
      "outputs": [],
      "source": [
        "model_dropout.compile(optimizer='adam',\n",
        "              loss='sparse_categorical_crossentropy',\n",
        "              metrics=['accuracy'])"
      ]
    },
    {
      "cell_type": "code",
      "source": [
        "# augmented_train_images=augmented_train_images.astype('float32')\n",
        "# augmented_train_labels=augmented_train_labels.astype('float32')\n",
        "# augmented_train_images=augmented_train_images/255\n",
        "# augmented_train_labels=augmented_train_labels/255"
      ],
      "metadata": {
        "id": "nhEvV2L0Nym3"
      },
      "execution_count": 21,
      "outputs": []
    },
    {
      "cell_type": "code",
      "execution_count": 15,
      "metadata": {
        "colab": {
          "base_uri": "https://localhost:8080/"
        },
        "id": "Y1mJsZrFJw0a",
        "outputId": "a1601b5f-94e3-4928-edc5-2da86bceedc9"
      },
      "outputs": [
        {
          "output_type": "stream",
          "name": "stdout",
          "text": [
            "Epoch 1/30\n",
            "2813/2813 [==============================] - 438s 155ms/step - loss: 1.6875 - accuracy: 0.4102 - val_loss: 1.2855 - val_accuracy: 0.5501\n",
            "Epoch 2/30\n",
            "2813/2813 [==============================] - 446s 158ms/step - loss: 1.2726 - accuracy: 0.5506 - val_loss: 1.0646 - val_accuracy: 0.6350\n",
            "Epoch 3/30\n",
            "2813/2813 [==============================] - 436s 155ms/step - loss: 1.1648 - accuracy: 0.5923 - val_loss: 1.0322 - val_accuracy: 0.6450\n",
            "Epoch 4/30\n",
            "2813/2813 [==============================] - 440s 157ms/step - loss: 1.0904 - accuracy: 0.6196 - val_loss: 0.9429 - val_accuracy: 0.6696\n",
            "Epoch 5/30\n",
            "2813/2813 [==============================] - 452s 161ms/step - loss: 1.0559 - accuracy: 0.6321 - val_loss: 0.8852 - val_accuracy: 0.6926\n",
            "Epoch 6/30\n",
            "2813/2813 [==============================] - 454s 161ms/step - loss: 1.0250 - accuracy: 0.6449 - val_loss: 0.9035 - val_accuracy: 0.6856\n",
            "Epoch 7/30\n",
            "2813/2813 [==============================] - 452s 161ms/step - loss: 1.0068 - accuracy: 0.6516 - val_loss: 0.8551 - val_accuracy: 0.7068\n",
            "Epoch 8/30\n",
            "2813/2813 [==============================] - 441s 157ms/step - loss: 0.9916 - accuracy: 0.6562 - val_loss: 0.8932 - val_accuracy: 0.6907\n",
            "Epoch 9/30\n",
            "2813/2813 [==============================] - 449s 160ms/step - loss: 0.9674 - accuracy: 0.6660 - val_loss: 0.8741 - val_accuracy: 0.7015\n",
            "Epoch 10/30\n",
            "2813/2813 [==============================] - 443s 158ms/step - loss: 0.9593 - accuracy: 0.6673 - val_loss: 0.8592 - val_accuracy: 0.7082\n",
            "Epoch 11/30\n",
            "2813/2813 [==============================] - 441s 157ms/step - loss: 0.9486 - accuracy: 0.6732 - val_loss: 0.8529 - val_accuracy: 0.7117\n",
            "Epoch 12/30\n",
            "2813/2813 [==============================] - 452s 161ms/step - loss: 0.9465 - accuracy: 0.6734 - val_loss: 0.8300 - val_accuracy: 0.7169\n",
            "Epoch 13/30\n",
            "2813/2813 [==============================] - 452s 161ms/step - loss: 0.9351 - accuracy: 0.6798 - val_loss: 0.8222 - val_accuracy: 0.7209\n",
            "Epoch 14/30\n",
            "2813/2813 [==============================] - 448s 159ms/step - loss: 0.9250 - accuracy: 0.6820 - val_loss: 0.8341 - val_accuracy: 0.7202\n",
            "Epoch 15/30\n",
            "2813/2813 [==============================] - 466s 166ms/step - loss: 0.9210 - accuracy: 0.6827 - val_loss: 0.8218 - val_accuracy: 0.7221\n",
            "Epoch 16/30\n",
            "2813/2813 [==============================] - 465s 165ms/step - loss: 0.9126 - accuracy: 0.6882 - val_loss: 0.9021 - val_accuracy: 0.6954\n",
            "Epoch 17/30\n",
            "2813/2813 [==============================] - 449s 159ms/step - loss: 0.9236 - accuracy: 0.6847 - val_loss: 0.7968 - val_accuracy: 0.7310\n",
            "Epoch 18/30\n",
            "2813/2813 [==============================] - 450s 160ms/step - loss: 0.9193 - accuracy: 0.6866 - val_loss: 0.8030 - val_accuracy: 0.7292\n",
            "Epoch 19/30\n",
            "2813/2813 [==============================] - 441s 157ms/step - loss: 0.8987 - accuracy: 0.6931 - val_loss: 0.8014 - val_accuracy: 0.7279\n",
            "Epoch 20/30\n",
            "2813/2813 [==============================] - 439s 156ms/step - loss: 0.8997 - accuracy: 0.6930 - val_loss: 0.8812 - val_accuracy: 0.6995\n",
            "Epoch 21/30\n",
            "2813/2813 [==============================] - 455s 162ms/step - loss: 0.8953 - accuracy: 0.6945 - val_loss: 0.8099 - val_accuracy: 0.7308\n",
            "Epoch 22/30\n",
            "2813/2813 [==============================] - 445s 158ms/step - loss: 0.8882 - accuracy: 0.6970 - val_loss: 0.8206 - val_accuracy: 0.7194\n",
            "Epoch 23/30\n",
            "2813/2813 [==============================] - 450s 160ms/step - loss: 0.8766 - accuracy: 0.7021 - val_loss: 0.8295 - val_accuracy: 0.7219\n",
            "Epoch 24/30\n",
            "2813/2813 [==============================] - 444s 158ms/step - loss: 0.8813 - accuracy: 0.7001 - val_loss: 0.8248 - val_accuracy: 0.7258\n",
            "Epoch 25/30\n",
            "2813/2813 [==============================] - 444s 158ms/step - loss: 0.8879 - accuracy: 0.6994 - val_loss: 0.8368 - val_accuracy: 0.7152\n",
            "Epoch 26/30\n",
            "2813/2813 [==============================] - 445s 158ms/step - loss: 0.8777 - accuracy: 0.7020 - val_loss: 0.8308 - val_accuracy: 0.7166\n",
            "Epoch 27/30\n",
            "2813/2813 [==============================] - 441s 157ms/step - loss: 0.8734 - accuracy: 0.7022 - val_loss: 0.8175 - val_accuracy: 0.7298\n",
            "Epoch 28/30\n",
            "2813/2813 [==============================] - 441s 157ms/step - loss: 0.8714 - accuracy: 0.7049 - val_loss: 0.8557 - val_accuracy: 0.7146\n",
            "Epoch 29/30\n",
            "2813/2813 [==============================] - 440s 156ms/step - loss: 0.8718 - accuracy: 0.7023 - val_loss: 0.8391 - val_accuracy: 0.7152\n",
            "Epoch 30/30\n",
            "2813/2813 [==============================] - 442s 157ms/step - loss: 0.8720 - accuracy: 0.7017 - val_loss: 0.8500 - val_accuracy: 0.7156\n",
            "313/313 [==============================] - 7s 23ms/step - loss: 1.3377 - accuracy: 0.7055\n",
            "Test accuracy: 70.55000066757202\n"
          ]
        }
      ],
      "source": [
        "model_dropout.fit(augmented_train_images, augmented_train_labels,epochs=30, validation_split=0.1)\n",
        "test_loss, test_acc = model.evaluate(test_images, test_labels)\n",
        "print(\"Test accuracy:\", test_acc*100)"
      ]
    },
    {
      "cell_type": "code",
      "execution_count": null,
      "metadata": {
        "id": "_1DUZ4-VK0xy"
      },
      "outputs": [],
      "source": []
    }
  ],
  "metadata": {
    "colab": {
      "provenance": []
    },
    "kernelspec": {
      "display_name": "Python 3",
      "name": "python3"
    },
    "language_info": {
      "name": "python"
    }
  },
  "nbformat": 4,
  "nbformat_minor": 0
}